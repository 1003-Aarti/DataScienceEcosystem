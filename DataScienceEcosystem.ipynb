{
  "metadata": {
    "kernelspec": {
      "name": "xpython",
      "display_name": "Python 3.13 (XPython)",
      "language": "python"
    },
    "language_info": {
      "file_extension": ".py",
      "mimetype": "text/x-python",
      "name": "python",
      "version": "3.13.1"
    }
  },
  "nbformat_minor": 5,
  "nbformat": 4,
  "cells": [
    {
      "id": "bc6497fa-e3af-4123-9ec3-f97c809ca7d9",
      "cell_type": "markdown",
      "source": "#Data Science Tools and Ecosystem ",
      "metadata": {}
    },
    {
      "id": "69a72621-f904-4822-9892-f473bfbc5ae9",
      "cell_type": "markdown",
      "source": "#In this notebook, Data Science Tools and Ecosystem are summarized.",
      "metadata": {}
    },
    {
      "id": "6622dc6f-038a-499d-8952-f8ffd0dd19fb",
      "cell_type": "markdown",
      "source": "Some of the popular languages that Data Scientists use are:\nPython\nR\nSQL\nJulia\nScala",
      "metadata": {}
    },
    {
      "id": "37bf4fca-e763-4c5c-a564-d73ec4447de1",
      "cell_type": "markdown",
      "source": "Some of the commonly used libraries used by Data Scientists include:\nNumPy\nPandas\nMatplotlib\nScikit‑learn",
      "metadata": {}
    },
    {
      "id": "da643c45-12a4-481c-8e2b-5aecac5affc3",
      "cell_type": "markdown",
      "source": "Data Science Tools",
      "metadata": {}
    },
    {
      "id": "b4bac05a-563b-4ea4-a1a0-4df1bd15a34e",
      "cell_type": "markdown",
      "source": "---------------------------",
      "metadata": {}
    },
    {
      "id": "e0d016d4-f7b9-406e-9af9-baba30fd2b04",
      "cell_type": "markdown",
      "source": "Jupyter Notebook\nRStudio\nApache Zeppelin",
      "metadata": {}
    },
    {
      "id": "b7777190-b797-4b40-a251-a1d62862c612",
      "cell_type": "markdown",
      "source": "###Below are a few examples of evaluating arithmetic expressions in Python.",
      "metadata": {}
    },
    {
      "id": "ba236bfa-a2ab-418e-b4ed-af42858dceab",
      "cell_type": "code",
      "source": "#This a simple arithmetic expression to multiply then add integers\n(3*4)+5",
      "metadata": {
        "trusted": true
      },
      "outputs": [
        {
          "execution_count": 3,
          "output_type": "execute_result",
          "data": {
            "text/plain": "17"
          },
          "metadata": {}
        }
      ],
      "execution_count": 3
    },
    {
      "id": "84945dd2-5256-4c4e-9311-54e95354a824",
      "cell_type": "code",
      "source": "#This will convert 200 minutes to hours by diving by 60\n200/60",
      "metadata": {
        "trusted": true
      },
      "outputs": [
        {
          "execution_count": 4,
          "output_type": "execute_result",
          "data": {
            "text/plain": "3.3333333333333335"
          },
          "metadata": {}
        }
      ],
      "execution_count": 4
    },
    {
      "id": "042fc367-0f97-4079-83a4-5cef06801f07",
      "cell_type": "markdown",
      "source": "**Objectives:**\n- List popular languages for Data Science\n- List commonly used libraries\n- Create tables and markdown cells\n- Evaluate arithmetic expressions\n- Convert minutes to hours",
      "metadata": {}
    },
    {
      "id": "ba6e0dcd-7008-48f8-893e-726d765c92ca",
      "cell_type": "markdown",
      "source": "#Author\nAarti Parmar",
      "metadata": {}
    },
    {
      "id": "16d574ef-ab66-4330-a010-abe43b080231",
      "cell_type": "code",
      "source": "",
      "metadata": {
        "trusted": true
      },
      "outputs": [],
      "execution_count": null
    },
    {
      "id": "0212491c-2aef-4336-b233-4fee219df5d8",
      "cell_type": "code",
      "source": "",
      "metadata": {
        "trusted": true
      },
      "outputs": [],
      "execution_count": null
    }
  ]
}